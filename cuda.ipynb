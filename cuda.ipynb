{
  "nbformat": 4,
  "nbformat_minor": 0,
  "metadata": {
    "colab": {
      "provenance": []
    },
    "kernelspec": {
      "name": "python3",
      "display_name": "Python 3"
    },
    "language_info": {
      "name": "python"
    }
  },
  "cells": [
    {
      "cell_type": "code",
      "execution_count": 2,
      "metadata": {
        "colab": {
          "base_uri": "https://localhost:8080/"
        },
        "id": "wz54GA84Ail3",
        "outputId": "9659a0f4-6eff-41f5-f169-98ff542f5ff4"
      },
      "outputs": [
        {
          "output_type": "stream",
          "name": "stdout",
          "text": [
            "Writing a.cu\n"
          ]
        }
      ],
      "source": [
        "%%writefile a.cu\n",
        "#include <bits/stdc++.h>\n",
        "\n",
        "using namespace std;\n",
        "using namespace std::chrono;\n",
        "\n",
        "__global__ void multiply(int* A, int* B, int* C, int M, int N, int K) {\n",
        "    int row = blockIdx.y * blockDim.y + threadIdx.y;\n",
        "    int col = blockIdx.x * blockDim.x + threadIdx.x;\n",
        "\n",
        "    if (row < M && col < K) {\n",
        "        int sum = 0;\n",
        "        for (int i = 0; i < N; i++) {\n",
        "            sum += A[row * N + i] * B[i * K + col];\n",
        "        }\n",
        "        C[row * K + col] = sum;\n",
        "    }\n",
        "}\n",
        "\n",
        "void initialize(int* matrix, int rows, int cols) {\n",
        "    // Seed for random number generation\n",
        "    srand(time(0));\n",
        "\n",
        "    for (int i = 0; i < rows * cols; i++) {\n",
        "        matrix[i] = rand() % 100 + 1;  // Random number between 1 and 100\n",
        "    }\n",
        "}\n",
        "\n",
        "\n",
        "void print(int* matrix, int rows, int cols) {\n",
        "    for (int row = 0; row < rows; row++) {\n",
        "        for (int col = 0; col < cols; col++) {\n",
        "            cout << matrix[row * cols + col] << \" \";\n",
        "        }\n",
        "        cout << '\\n';\n",
        "    }\n",
        "    cout << '\\n';\n",
        "}\n",
        "\n",
        "void sequentialMultiply(int* A, int* B, int* C, int M, int N, int K) {\n",
        "    for (int i = 0; i < M; i++) {\n",
        "        for (int j = 0; j < K; j++) {\n",
        "            int sum = 0;\n",
        "            for (int k = 0; k < N; k++) {\n",
        "                sum += A[i * N + k] * B[k * K + j];\n",
        "            }\n",
        "            C[i * K + j] = sum;\n",
        "        }\n",
        "    }\n",
        "}\n",
        "\n",
        "int main() {\n",
        "    int M, N, K;\n",
        "    M = 3 ;\n",
        "    N = 3 ;\n",
        "    K = 3 ;\n",
        "\n",
        "    int* A, * B, * C;\n",
        "\n",
        "    int matrixSize = M * K;\n",
        "    size_t matrixBytes = matrixSize * sizeof(int);\n",
        "\n",
        "    A = new int[M * N];\n",
        "    B = new int[N * K];\n",
        "    C = new int[M * K];\n",
        "\n",
        "    initialize(A, M, N);\n",
        "    initialize(B, N, K);\n",
        "\n",
        "    cout << \"Matrix A: \\n\";\n",
        "    print(A, M, N);\n",
        "\n",
        "    cout << \"Matrix B: \\n\";\n",
        "    print(B, N, K);\n",
        "\n",
        "    int* X, * Y, * Z;\n",
        "    cudaMalloc(&X, M * N * sizeof(int));\n",
        "    cudaMalloc(&Y, N * K * sizeof(int));\n",
        "    cudaMalloc(&Z, M * K * sizeof(int));\n",
        "\n",
        "    cudaMemcpy(X, A, M * N * sizeof(int), cudaMemcpyHostToDevice);\n",
        "    cudaMemcpy(Y, B, N * K * sizeof(int), cudaMemcpyHostToDevice);\n",
        "\n",
        "    int THREADS = 16;\n",
        "    int BLOCKS = (M + THREADS - 1) / THREADS;\n",
        "\n",
        "    dim3 threads(THREADS, THREADS);\n",
        "    dim3 blocks(BLOCKS, BLOCKS);\n",
        "\n",
        "    // Sequential multiplication\n",
        "    auto start = high_resolution_clock::now();\n",
        "    sequentialMultiply(A, B, C, M, N, K);\n",
        "    auto stop = high_resolution_clock::now();\n",
        "    auto seq_duration = duration_cast<microseconds>(stop - start);\n",
        "\n",
        "    cout << \"Sequential Multiplication of matrix A and B: \\n\";\n",
        "    print(C, M, K);\n",
        "\n",
        "    // Parallel multiplication\n",
        "    start = high_resolution_clock::now();\n",
        "    multiply<<<blocks, threads>>>(X, Y, Z, M, N, K);\n",
        "    cudaMemcpy(C, Z, M * K * sizeof(int), cudaMemcpyDeviceToHost);\n",
        "    stop = high_resolution_clock::now();\n",
        "    auto par_duration = duration_cast<microseconds>(stop - start);\n",
        "\n",
        "    cout << \"Parallel Multiplication of matrix A and B: \\n\";\n",
        "    print(C, M, K);\n",
        "\n",
        "    cout << \"Sequential Multiplication Time: \" << seq_duration.count() << \" microseconds\" << endl;\n",
        "    cout << \"Parallel Multiplication Time: \" << par_duration.count() << \" microseconds\" << endl;\n",
        "\n",
        "    delete[] A;\n",
        "    delete[] B;\n",
        "    delete[] C;\n",
        "\n",
        "    cudaFree(X);\n",
        "    cudaFree(Y);\n",
        "    cudaFree(Z);\n",
        "\n",
        "    return 0;\n",
        "}\n",
        "\n",
        "\n",
        "\n",
        "// run the below command in terminal\n",
        "// filename = a.cu\n",
        "// !nvcc a.cu -o add\n",
        "// !./add"
      ]
    },
    {
      "cell_type": "code",
      "source": [
        "!nvcc a.cu -o add\n"
      ],
      "metadata": {
        "colab": {
          "base_uri": "https://localhost:8080/"
        },
        "id": "53jKj66xAldA",
        "outputId": "353c010a-7cc1-4b80-908f-116748fbef1d"
      },
      "execution_count": 3,
      "outputs": [
        {
          "output_type": "stream",
          "name": "stdout",
          "text": [
            "\u001b[01m\u001b[0m\u001b[01ma.cu(60)\u001b[0m: \u001b[01;35mwarning\u001b[0m #177-D: variable \u001b[01m\"matrixBytes\"\u001b[0m was declared but never referenced\n",
            "      size_t matrixBytes = matrixSize * sizeof(int);\n",
            "             ^\n",
            "\n",
            "\u001b[01;36m\u001b[0m\u001b[01;36mRemark\u001b[0m: The warnings can be suppressed with \"-diag-suppress <warning-number>\"\n",
            "\n"
          ]
        }
      ]
    },
    {
      "cell_type": "code",
      "source": [
        "!./add"
      ],
      "metadata": {
        "colab": {
          "base_uri": "https://localhost:8080/"
        },
        "id": "SK_E2aYyBXYy",
        "outputId": "5b6019bf-b430-48e9-f85a-ed5960ade676"
      },
      "execution_count": 4,
      "outputs": [
        {
          "output_type": "stream",
          "name": "stdout",
          "text": [
            "Matrix A: \n",
            "54 77 8 \n",
            "91 8 31 \n",
            "40 27 47 \n",
            "\n",
            "Matrix B: \n",
            "54 77 8 \n",
            "91 8 31 \n",
            "40 27 47 \n",
            "\n",
            "Sequential Multiplication of matrix A and B: \n",
            "10243 4990 3195 \n",
            "6882 7908 2433 \n",
            "6497 4565 3366 \n",
            "\n",
            "Parallel Multiplication of matrix A and B: \n",
            "10243 4990 3195 \n",
            "6882 7908 2433 \n",
            "6497 4565 3366 \n",
            "\n",
            "Sequential Multiplication Time: 0 microseconds\n",
            "Parallel Multiplication Time: 2 microseconds\n"
          ]
        }
      ]
    },
    {
      "cell_type": "code",
      "source": [
        "%%writefile ab.cu\n",
        "#include <bits/stdc++.h>\n",
        "\n",
        "using namespace std;\n",
        "using namespace std::chrono;\n",
        "\n",
        "__global__ void add(int* A, int* B, int* C, int size) {\n",
        "    int tid = blockIdx.x * blockDim.x + threadIdx.x;\n",
        "\n",
        "    if (tid < size) {\n",
        "        C[tid] = A[tid] + B[tid];\n",
        "    }\n",
        "}\n",
        "\n",
        "void initialize(int* vector, int size) {\n",
        "    for (int i = 0; i < size; i++) {\n",
        "        vector[i] = rand() % 100 + 1;\n",
        "    }\n",
        "}\n",
        "\n",
        "void print(int* vector, int size) {\n",
        "    for (int i = 0; i < size; i++) {\n",
        "        cout << vector[i] << \" \";\n",
        "    }\n",
        "    cout << endl;\n",
        "}\n",
        "\n",
        "void sequentialAddition(int* A, int* B, int* C, int size) {\n",
        "    for (int i = 0; i < size; i++) {\n",
        "        C[i] = A[i] + B[i];\n",
        "    }\n",
        "}\n",
        "\n",
        "int main() {\n",
        "    int N;\n",
        "\n",
        "    N= 10;\n",
        "\n",
        "    int* A, * B, * C;\n",
        "\n",
        "    int vectorSize = N;\n",
        "    size_t vectorBytes = vectorSize * sizeof(int);\n",
        "\n",
        "    A = new int[vectorSize];\n",
        "    B = new int[vectorSize];\n",
        "    C = new int[vectorSize];\n",
        "\n",
        "    initialize(A, vectorSize);\n",
        "    initialize(B, vectorSize);\n",
        "\n",
        "    cout << \"Vector A: \";\n",
        "    print(A, N);\n",
        "    cout << \"Vector B: \";\n",
        "    print(B, N);\n",
        "\n",
        "    int* X, * Y, * Z;\n",
        "    cudaMalloc(&X, vectorBytes);\n",
        "    cudaMalloc(&Y, vectorBytes);\n",
        "    cudaMalloc(&Z, vectorBytes);\n",
        "\n",
        "    cudaMemcpy(X, A, vectorBytes, cudaMemcpyHostToDevice);\n",
        "    cudaMemcpy(Y, B, vectorBytes, cudaMemcpyHostToDevice);\n",
        "\n",
        "    int threadsPerBlock = 256;\n",
        "    int blocksPerGrid = (N + threadsPerBlock - 1) / threadsPerBlock;\n",
        "\n",
        "    // Sequential addition\n",
        "    auto start = high_resolution_clock::now();\n",
        "    sequentialAddition(A, B, C, N);\n",
        "    auto stop = high_resolution_clock::now();\n",
        "    auto seq_duration = duration_cast<microseconds>(stop - start);\n",
        "\n",
        "    cout << \"Sequential Addition: \";\n",
        "    print(C, N);\n",
        "\n",
        "    // Parallel addition\n",
        "    start = high_resolution_clock::now();\n",
        "    add<<<blocksPerGrid, threadsPerBlock>>>(X, Y, Z, N);\n",
        "    cudaMemcpy(C, Z, vectorBytes, cudaMemcpyDeviceToHost);\n",
        "    stop = high_resolution_clock::now();\n",
        "    auto par_duration = duration_cast<microseconds>(stop - start);\n",
        "\n",
        "    cout << \"Parallel Addition: \";\n",
        "    print(C, N);\n",
        "\n",
        "    cout << \"Sequential Addition Time: \" << seq_duration.count() << \" microseconds\" << endl;\n",
        "    cout << \"Parallel Addition Time: \" << par_duration.count() << \" microseconds\" << endl;\n",
        "\n",
        "    delete[] A;\n",
        "    delete[] B;\n",
        "    delete[] C;\n",
        "\n",
        "    cudaFree(X);\n",
        "    cudaFree(Y);\n",
        "    cudaFree(Z);\n",
        "\n",
        "    return 0;\n",
        "}\n"
      ],
      "metadata": {
        "colab": {
          "base_uri": "https://localhost:8080/"
        },
        "id": "2KX9RE0QBcR4",
        "outputId": "4bb0f2b5-1a05-4e83-f1ab-c75522902507"
      },
      "execution_count": 6,
      "outputs": [
        {
          "output_type": "stream",
          "name": "stdout",
          "text": [
            "Writing ab.cu\n"
          ]
        }
      ]
    },
    {
      "cell_type": "code",
      "source": [
        "!nvcc ab.cu -o add2\n"
      ],
      "metadata": {
        "id": "KxMp0UCGBxcb"
      },
      "execution_count": 7,
      "outputs": []
    },
    {
      "cell_type": "code",
      "source": [
        "!./add2"
      ],
      "metadata": {
        "colab": {
          "base_uri": "https://localhost:8080/"
        },
        "id": "Chp5CbmPCAnM",
        "outputId": "fb401cf9-78f2-4ada-eaea-8fdb308467ab"
      },
      "execution_count": 8,
      "outputs": [
        {
          "output_type": "stream",
          "name": "stdout",
          "text": [
            "Vector A: 84 87 78 16 94 36 87 93 50 22 \n",
            "Vector B: 63 28 91 60 64 27 41 27 73 37 \n",
            "Sequential Addition: 147 115 169 76 158 63 128 120 123 59 \n",
            "Parallel Addition: 147 115 169 76 158 63 128 120 123 59 \n",
            "Sequential Addition Time: 0 microseconds\n",
            "Parallel Addition Time: 31 microseconds\n"
          ]
        }
      ]
    },
    {
      "cell_type": "code",
      "source": [],
      "metadata": {
        "id": "Zw_KCC8HCB-F"
      },
      "execution_count": null,
      "outputs": []
    }
  ]
}